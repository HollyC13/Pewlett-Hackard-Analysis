{
 "cells": [
  {
   "cell_type": "code",
   "execution_count": 3,
   "source": [
    "%matplotlib inline\r\n",
    "\r\n",
    "\r\n",
    "# Import dependencies\r\n",
    "import matplotlib.pyplot as plt\r\n",
    "import pandas as pd"
   ],
   "outputs": [],
   "metadata": {}
  },
  {
   "cell_type": "code",
   "execution_count": 4,
   "source": [
    "# Files to load\r\n",
    "retiring_titles_to_load = \"Data/retiring_titles.csv\"\r\n"
   ],
   "outputs": [],
   "metadata": {}
  },
  {
   "cell_type": "code",
   "execution_count": 5,
   "source": [
    "# Read the retiring titles file and store it in a pandas DataFrame\r\n",
    "retiring_titles_df = pd.read_csv(retiring_titles_to_load)\r\n",
    "retiring_titles_df"
   ],
   "outputs": [
    {
     "output_type": "execute_result",
     "data": {
      "text/html": [
       "<div>\n",
       "<style scoped>\n",
       "    .dataframe tbody tr th:only-of-type {\n",
       "        vertical-align: middle;\n",
       "    }\n",
       "\n",
       "    .dataframe tbody tr th {\n",
       "        vertical-align: top;\n",
       "    }\n",
       "\n",
       "    .dataframe thead th {\n",
       "        text-align: right;\n",
       "    }\n",
       "</style>\n",
       "<table border=\"1\" class=\"dataframe\">\n",
       "  <thead>\n",
       "    <tr style=\"text-align: right;\">\n",
       "      <th></th>\n",
       "      <th>count</th>\n",
       "      <th>title</th>\n",
       "    </tr>\n",
       "  </thead>\n",
       "  <tbody>\n",
       "    <tr>\n",
       "      <th>0</th>\n",
       "      <td>29414</td>\n",
       "      <td>Senior Engineer</td>\n",
       "    </tr>\n",
       "    <tr>\n",
       "      <th>1</th>\n",
       "      <td>28254</td>\n",
       "      <td>Senior Staff</td>\n",
       "    </tr>\n",
       "    <tr>\n",
       "      <th>2</th>\n",
       "      <td>14222</td>\n",
       "      <td>Engineer</td>\n",
       "    </tr>\n",
       "    <tr>\n",
       "      <th>3</th>\n",
       "      <td>12243</td>\n",
       "      <td>Staff</td>\n",
       "    </tr>\n",
       "    <tr>\n",
       "      <th>4</th>\n",
       "      <td>4502</td>\n",
       "      <td>Technique Leader</td>\n",
       "    </tr>\n",
       "    <tr>\n",
       "      <th>5</th>\n",
       "      <td>1761</td>\n",
       "      <td>Assistant Engineer</td>\n",
       "    </tr>\n",
       "    <tr>\n",
       "      <th>6</th>\n",
       "      <td>2</td>\n",
       "      <td>Manager</td>\n",
       "    </tr>\n",
       "  </tbody>\n",
       "</table>\n",
       "</div>"
      ],
      "text/plain": [
       "   count               title\n",
       "0  29414     Senior Engineer\n",
       "1  28254        Senior Staff\n",
       "2  14222            Engineer\n",
       "3  12243               Staff\n",
       "4   4502    Technique Leader\n",
       "5   1761  Assistant Engineer\n",
       "6      2             Manager"
      ]
     },
     "metadata": {},
     "execution_count": 5
    }
   ],
   "metadata": {}
  },
  {
   "cell_type": "code",
   "execution_count": 6,
   "source": [
    "# Get the sum of all retiring titles\r\n",
    "retiring_titles = retiring_titles_df[\"count\"].sum()\r\n",
    "retiring_titles"
   ],
   "outputs": [
    {
     "output_type": "execute_result",
     "data": {
      "text/plain": [
       "90398"
      ]
     },
     "metadata": {},
     "execution_count": 6
    }
   ],
   "metadata": {}
  },
  {
   "cell_type": "code",
   "execution_count": 7,
   "source": [
    "# Calculate the percentage of retiring titles by title\r\n",
    "title_percents = 100 * retiring_titles_df[\"count\"] / retiring_titles\r\n",
    "title_percents"
   ],
   "outputs": [
    {
     "output_type": "execute_result",
     "data": {
      "text/plain": [
       "0    32.538330\n",
       "1    31.255116\n",
       "2    15.732649\n",
       "3    13.543441\n",
       "4     4.980199\n",
       "5     1.948052\n",
       "6     0.002212\n",
       "Name: count, dtype: float64"
      ]
     },
     "metadata": {},
     "execution_count": 7
    }
   ],
   "metadata": {}
  },
  {
   "cell_type": "code",
   "execution_count": 8,
   "source": [
    "# Set the x-axis to a list of titles\r\n",
    "x_axis = [\"Senior Engineer\", \"Senior Staff\", \"Engineer\", \"Staff\", \"Technique Leader\", \"Assistant Enigneer\", \"Manager\"]\r\n",
    "\r\n",
    "# Set the y-axis to a list of counts\r\n",
    "y_axis = [29414, 28254, 14222, 12243, 4502, 1761, 2]"
   ],
   "outputs": [],
   "metadata": {}
  },
  {
   "cell_type": "code",
   "execution_count": 9,
   "source": [
    "# Create the plot\r\n",
    "plt.bar(x_axis, y_axis, color=\"lightblue\")\r\n",
    "\r\n",
    "# Create labels for the x and y axes\r\n",
    "plt.xlabel(\"Employee Title\", fontsize=12)\r\n",
    "plt.ylabel(\"Employee Count\", fontsize=12)\r\n",
    "\r\n",
    "plt.xticks(fontsize=10, rotation=90)\r\n",
    "plt.yticks(fontsize=10)\r\n",
    "\r\n",
    "# Create a title\r\n",
    "plt.title(\"Retiring Employees by Title\", fontsize=14)"
   ],
   "outputs": [
    {
     "output_type": "execute_result",
     "data": {
      "text/plain": [
       "Text(0.5, 1.0, 'Retiring Employees by Title')"
      ]
     },
     "metadata": {},
     "execution_count": 9
    },
    {
     "output_type": "display_data",
     "data": {
      "image/png": "[encoded data removed]",
      "text/plain": [
       "<Figure size 432x288 with 1 Axes>"
      ]
     },
     "metadata": {
      "needs_background": "light"
     }
    }
   ],
   "metadata": {}
  },
  {
   "cell_type": "code",
   "execution_count": 10,
   "source": [
    "# Set the x-axis to a list of titles - mentorship group\r\n",
    "x_axis = [\"Senior Staff\", \"Engineer\", \"Staff\", \"Senior Engineer\", \"Technique Leader\", \"Assistant Enigneer\"]\r\n",
    "\r\n",
    "# Set the y-axis to a list of counts\r\n",
    "y_axis = [427, 404, 297, 283, 77, 61]"
   ],
   "outputs": [],
   "metadata": {}
  },
  {
   "cell_type": "code",
   "execution_count": 12,
   "source": [
    "# Create the plot - mentorship group\r\n",
    "plt.bar(x_axis, y_axis, color=\"lightgreen\")\r\n",
    "\r\n",
    "# Create labels for the x and y axes\r\n",
    "plt.xlabel(\"Employee Title\", fontsize=12)\r\n",
    "plt.ylabel(\"Employee Count\", fontsize=12)\r\n",
    "\r\n",
    "plt.xticks(fontsize=10, rotation=90)\r\n",
    "plt.yticks(fontsize=10)\r\n",
    "\r\n",
    "# Create a title\r\n",
    "plt.title(\"Mentorship Group by Title\", fontsize=14)"
   ],
   "outputs": [
    {
     "output_type": "execute_result",
     "data": {
      "text/plain": [
       "Text(0.5, 1.0, 'Mentorship Group by Title')"
      ]
     },
     "metadata": {},
     "execution_count": 12
    },
    {
     "output_type": "display_data",
     "data": {
      "image/png": "[encoded data removed]",
      "text/plain": [
       "<Figure size 432x288 with 1 Axes>"
      ]
     },
     "metadata": {
      "needs_background": "light"
     }
    }
   ],
   "metadata": {}
  },
  {
   "cell_type": "code",
   "execution_count": null,
   "source": [
    "# Set the x-axis to a list of titles - mentorship group\r\n",
    "x_axis = [\"Development\", \"Production\", \"Sales\", \"Customer Service\", \"Marketing\", \"Research\", \"Human Resources\", \"Quality Management\", \"Finance\"]\r\n",
    "\r\n",
    "# Set the y-axis to a list of counts\r\n",
    "y_axis = [396, 322, 244, 120, 117, 103, 97, 86, 64]"
   ],
   "outputs": [],
   "metadata": {}
  }
 ],
 "metadata": {
  "kernelspec": {
   "name": "python3",
   "display_name": "Python 3.7.10 64-bit ('PythonData': conda)"
  },
  "language_info": {
   "name": "python",
   "version": "3.7.10",
   "mimetype": "text/x-python",
   "codemirror_mode": {
    "name": "ipython",
    "version": 3
   },
   "pygments_lexer": "ipython3",
   "nbconvert_exporter": "python",
   "file_extension": ".py"
  },
  "interpreter": {
   "hash": "2fc54fcfdff9fc807bf4c3cb881b8918bc3897539eb56229e8f83bc2026f0e36"
  }
 },
 "nbformat": 4,
 "nbformat_minor": 5
}